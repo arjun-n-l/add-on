{
 "cells": [
  {
   "cell_type": "code",
   "execution_count": 1,
   "id": "873994e2",
   "metadata": {},
   "outputs": [
    {
     "name": "stdout",
     "output_type": "stream",
     "text": [
      "enter the number3\n",
      "enter the number3\n"
     ]
    },
    {
     "data": {
      "text/plain": [
       "6"
      ]
     },
     "execution_count": 1,
     "metadata": {},
     "output_type": "execute_result"
    }
   ],
   "source": [
    "def calc(a,b):\n",
    "    c=a+b\n",
    "    return c\n",
    "a=int(input(\"enter the number\"))\n",
    "b=int(input(\"enter the number\"))\n",
    "calc(a,b)"
   ]
  },
  {
   "cell_type": "code",
   "execution_count": 2,
   "id": "c8718b16",
   "metadata": {},
   "outputs": [
    {
     "name": "stdout",
     "output_type": "stream",
     "text": [
      "enter the number3\n",
      "enter the number4\n",
      "enter the number5\n",
      "c is largest\n"
     ]
    }
   ],
   "source": [
    "def large(a,b,c):\n",
    "    if(a>b):\n",
    "     if(a>c):\n",
    "        return print(\"a is largest\")\n",
    "    elif(b>c):\n",
    "     if(b>a):\n",
    "        return print(\"b is largest\")\n",
    "    else:\n",
    "        return print(\"c is largest\")\n",
    "a=int(input(\"enter the number\"))\n",
    "b=int(input(\"enter the number\"))\n",
    "c=int(input(\"enter the number\"))\n",
    "large(a,b,c)\n",
    "    "
   ]
  },
  {
   "cell_type": "code",
   "execution_count": 3,
   "id": "262a5975",
   "metadata": {},
   "outputs": [
    {
     "name": "stdout",
     "output_type": "stream",
     "text": [
      "Top Second is : 30\n"
     ]
    }
   ],
   "source": [
    "scores = [10 ,40,40,30]\n",
    "\n",
    "unique = list(set(scores))\n",
    "sort = sorted(unique, reverse=True)\n",
    "print(\"Top Second is :\",sort[1])\n",
    "\n"
   ]
  },
  {
   "cell_type": "code",
   "execution_count": 6,
   "id": "be529d19",
   "metadata": {},
   "outputs": [
    {
     "name": "stdout",
     "output_type": "stream",
     "text": [
      "Enter the first set : 2,3\n",
      "Enter the second set : 3,4\n",
      "Common elements found - Intersection: {'3'}\n"
     ]
    }
   ],
   "source": [
    "set1 = set(input(\"Enter the first set : \").split(\",\"))\n",
    "set2 = set(input(\"Enter the second set : \").split(\",\"))\n",
    "\n",
    "\n",
    "intersection = set1 & set2\n",
    "union = set1 | set2\n",
    "\n",
    "\n",
    "if intersection:\n",
    " print(f\"Common elements found - Intersection: {intersection}\")\n",
    "else:\n",
    " print(f\"No common elements - Union: {union}\")"
   ]
  },
  {
   "cell_type": "code",
   "execution_count": 10,
   "id": "aaa8be2b",
   "metadata": {},
   "outputs": [
    {
     "name": "stdout",
     "output_type": "stream",
     "text": [
      "Name of the user :Meena\n",
      "{'John': [25, 32, 43], 'Peter': [87, 55, 96], 'Ram': [58, 55, 43], 'Meena': [88, 77, 99]}\n"
     ]
    }
   ],
   "source": [
    "D = {'John' :[25,32,43],'Peter':[87,55,96],'Ram':[58,55,43],'Meena':[63,79,85]}\n",
    "n = str(input(\"Name of the user :\"))\n",
    "if n in D:\n",
    "   D[n]=[88,77,99]\n",
    "   print(D)\n",
    "else:\n",
    "    print(\"User not found\")"
   ]
  },
  {
   "cell_type": "code",
   "execution_count": 1,
   "id": "7ba0f80d",
   "metadata": {},
   "outputs": [
    {
     "data": {
      "text/plain": [
       "'Nraa'"
      ]
     },
     "execution_count": 1,
     "metadata": {},
     "output_type": "execute_result"
    }
   ],
   "source": [
    "s=\"Nirmala\"\n",
    "s[::2]"
   ]
  },
  {
   "cell_type": "code",
   "execution_count": 3,
   "id": "e31c5f62",
   "metadata": {},
   "outputs": [
    {
     "name": "stdout",
     "output_type": "stream",
     "text": [
      "Elder = 48\n",
      "Youngest= 23\n"
     ]
    }
   ],
   "source": [
    "age=[23,36,48]\n",
    "print('Elder =',max(age))\n",
    "print('Youngest=',min(age))"
   ]
  },
  {
   "cell_type": "code",
   "execution_count": null,
   "id": "05ec6578",
   "metadata": {},
   "outputs": [],
   "source": []
  }
 ],
 "metadata": {
  "kernelspec": {
   "display_name": "Python 3 (ipykernel)",
   "language": "python",
   "name": "python3"
  },
  "language_info": {
   "codemirror_mode": {
    "name": "ipython",
    "version": 3
   },
   "file_extension": ".py",
   "mimetype": "text/x-python",
   "name": "python",
   "nbconvert_exporter": "python",
   "pygments_lexer": "ipython3",
   "version": "3.11.5"
  }
 },
 "nbformat": 4,
 "nbformat_minor": 5
}
